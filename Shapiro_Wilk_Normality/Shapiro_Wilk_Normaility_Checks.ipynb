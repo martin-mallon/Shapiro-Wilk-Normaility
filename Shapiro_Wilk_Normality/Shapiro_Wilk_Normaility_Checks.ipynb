{
 "cells": [
  {
   "cell_type": "code",
   "execution_count": 1,
   "id": "62ec9048",
   "metadata": {},
   "outputs": [],
   "source": [
    "# libraries\n",
    "import numpy as np\n",
    "import pandas as pd\n",
    "import seaborn as sns\n",
    "import matplotlib.pyplot as plt\n",
    "from scipy.stats import shapiro, probplot\n",
    "\n",
    "# shapiro wilk test analysis\n",
    "def swt(data, a, ttl, n_bins, c):\n",
    "    \n",
    "    # shapiro\n",
    "    stat, p = shapiro(data)\n",
    "    \n",
    "    # normality\n",
    "    if p>a:\n",
    "        nml = 'Normal'\n",
    "    else:\n",
    "        nml = 'Not Normal'\n",
    "    \n",
    "    # viz\n",
    "    fig, [ax_1, ax_2] = plt.subplots(1, 2, figsize=(18,8), constrained_layout=True)\n",
    "    plt.suptitle(ttl)\n",
    "    \n",
    "    # hist\n",
    "    sns.histplot(ax=ax_1, data=data, stat='probability',\n",
    "                 element='step', kde=True, bins=n_bins, alpha=0.2,\n",
    "                 color=c)\n",
    "    # qq \n",
    "    probplot(data, dist='norm', plot=ax_2)\n",
    "    \n",
    "    # format\n",
    "    ax_1.set_title(f'P-value = {round(p*100, 1)}% ({nml})')\n",
    "    ax_1.set_xlabel(ax_2.get_ylabel())\n",
    "    ax_2.get_lines()[1].set_linewidth(2)\n",
    "    ax_2.get_lines()[1].set_linestyle('--')\n",
    "    ax_2.get_lines()[0].set_color(c)\n",
    "    ax_2.get_lines()[0].set_alpha(0.25)\n",
    "    \n",
    "    # return\n",
    "    return plt.show()"
   ]
  }
 ],
 "metadata": {
  "kernelspec": {
   "display_name": "Python 3",
   "language": "python",
   "name": "python3"
  },
  "language_info": {
   "codemirror_mode": {
    "name": "ipython",
    "version": 3
   },
   "file_extension": ".py",
   "mimetype": "text/x-python",
   "name": "python",
   "nbconvert_exporter": "python",
   "pygments_lexer": "ipython3",
   "version": "3.8.8"
  }
 },
 "nbformat": 4,
 "nbformat_minor": 5
}
