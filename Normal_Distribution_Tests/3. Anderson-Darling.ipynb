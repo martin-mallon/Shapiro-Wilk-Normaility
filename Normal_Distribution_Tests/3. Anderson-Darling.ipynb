{
 "cells": [
  {
   "cell_type": "markdown",
   "id": "42d3e5d2",
   "metadata": {},
   "source": [
    "<h1>Anderson-Darling</h1>\n",
    "\n",
    "<h3><font color='grey'>Detects significant departures from normality at different significance levels.</font></h3>\n",
    "\n",
    "<br>"
   ]
  },
  {
   "cell_type": "code",
   "execution_count": 1,
   "id": "8e3d11ce",
   "metadata": {},
   "outputs": [],
   "source": [
    "# libraries\n",
    "import numpy as np\n",
    "import pandas as pd\n",
    "import matplotlib.pyplot as plt\n",
    "import seaborn as sns\n",
    "\n",
    "# style\n",
    "from ipynb.fs.full.i_Style_Sheet import *\n",
    "plt.style.use(style_use)\n",
    "plt.rcParams.update(style_params)"
   ]
  },
  {
   "cell_type": "code",
   "execution_count": 15,
   "id": "17c3bb61",
   "metadata": {},
   "outputs": [
    {
     "data": {
      "text/html": [
       "<div>\n",
       "<style scoped>\n",
       "    .dataframe tbody tr th:only-of-type {\n",
       "        vertical-align: middle;\n",
       "    }\n",
       "\n",
       "    .dataframe tbody tr th {\n",
       "        vertical-align: top;\n",
       "    }\n",
       "\n",
       "    .dataframe thead th {\n",
       "        text-align: right;\n",
       "    }\n",
       "</style>\n",
       "<table border=\"1\" class=\"dataframe\">\n",
       "  <thead>\n",
       "    <tr style=\"text-align: right;\">\n",
       "      <th></th>\n",
       "      <th>sig</th>\n",
       "      <th>crit_val</th>\n",
       "      <th>stat</th>\n",
       "      <th>nml</th>\n",
       "    </tr>\n",
       "  </thead>\n",
       "  <tbody>\n",
       "    <tr>\n",
       "      <th>0</th>\n",
       "      <td>15.0</td>\n",
       "      <td>0.576</td>\n",
       "      <td>0.305597</td>\n",
       "      <td>Y</td>\n",
       "    </tr>\n",
       "    <tr>\n",
       "      <th>1</th>\n",
       "      <td>10.0</td>\n",
       "      <td>0.655</td>\n",
       "      <td>0.305597</td>\n",
       "      <td>Y</td>\n",
       "    </tr>\n",
       "    <tr>\n",
       "      <th>2</th>\n",
       "      <td>5.0</td>\n",
       "      <td>0.786</td>\n",
       "      <td>0.305597</td>\n",
       "      <td>Y</td>\n",
       "    </tr>\n",
       "    <tr>\n",
       "      <th>3</th>\n",
       "      <td>2.5</td>\n",
       "      <td>0.917</td>\n",
       "      <td>0.305597</td>\n",
       "      <td>Y</td>\n",
       "    </tr>\n",
       "    <tr>\n",
       "      <th>4</th>\n",
       "      <td>1.0</td>\n",
       "      <td>1.091</td>\n",
       "      <td>0.305597</td>\n",
       "      <td>Y</td>\n",
       "    </tr>\n",
       "  </tbody>\n",
       "</table>\n",
       "</div>"
      ],
      "text/plain": [
       "    sig  crit_val      stat nml\n",
       "0  15.0     0.576  0.305597   Y\n",
       "1  10.0     0.655  0.305597   Y\n",
       "2   5.0     0.786  0.305597   Y\n",
       "3   2.5     0.917  0.305597   Y\n",
       "4   1.0     1.091  0.305597   Y"
      ]
     },
     "execution_count": 15,
     "metadata": {},
     "output_type": "execute_result"
    }
   ],
   "source": [
    "# scipy\n",
    "from scipy.stats import anderson\n",
    "\n",
    "# random normal\n",
    "np.random.seed(1)\n",
    "mu, sigma, s = 10, 1, 4999\n",
    "nml = np.random.normal(mu, sigma, s)\n",
    "results = anderson(nml)\n",
    "\n",
    "sig = results.significance_level\n",
    "crit_val = results.critical_values\n",
    "stat = results.statistic\n",
    "nml = np.where(stat<crit_val, 'Y', 'N')\n",
    "\n",
    "# logic\n",
    "anderson_df = pd.DataFrame({'sig':sig,\n",
    "                            'crit_val':crit_val, \n",
    "                            'stat':stat,\n",
    "                            'nml':nml})\n",
    "\n",
    "anderson_df"
   ]
  }
 ],
 "metadata": {
  "kernelspec": {
   "display_name": "Python 3",
   "language": "python",
   "name": "python3"
  },
  "language_info": {
   "codemirror_mode": {
    "name": "ipython",
    "version": 3
   },
   "file_extension": ".py",
   "mimetype": "text/x-python",
   "name": "python",
   "nbconvert_exporter": "python",
   "pygments_lexer": "ipython3",
   "version": "3.8.8"
  }
 },
 "nbformat": 4,
 "nbformat_minor": 5
}
